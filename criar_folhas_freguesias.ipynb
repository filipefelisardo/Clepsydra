{
  "nbformat": 4,
  "nbformat_minor": 0,
  "metadata": {
    "colab": {
      "provenance": []
    },
    "kernelspec": {
      "name": "python3",
      "display_name": "Python 3"
    },
    "language_info": {
      "name": "python"
    }
  },
  "cells": [
    {
      "cell_type": "code",
      "source": [
        "pip install xlsxwriter"
      ],
      "metadata": {
        "colab": {
          "base_uri": "https://localhost:8080/"
        },
        "id": "AJSo5Hzke37Y",
        "outputId": "0b8fe35e-b181-46db-d6dc-6837607ab8fd"
      },
      "execution_count": 6,
      "outputs": [
        {
          "output_type": "stream",
          "name": "stdout",
          "text": [
            "Requirement already satisfied: xlsxwriter in /usr/local/lib/python3.10/dist-packages (3.2.0)\n"
          ]
        }
      ]
    },
    {
      "cell_type": "code",
      "source": [
        "import pandas as pd\n",
        "import xlsxwriter\n",
        "\n",
        "# Read the CSV file into a DataFrame using the 'latin-1' encoding\n",
        "df = pd.read_csv('culturas_freg_1989_original.csv', delimiter=';', encoding='latin-1')\n",
        "\n",
        "# Create a new Excel file with option to convert nan/inf to errors\n",
        "with xlsxwriter.Workbook('culturas_por_localizacao_com_nomes.xlsx', {'nan_inf_to_errors': True}) as workbook:\n",
        "    # Get unique locations\n",
        "    unique_locations = df['localizacao_geografica'].unique()\n",
        "\n",
        "    # Iterate over unique locations\n",
        "    for location in unique_locations:\n",
        "        # Filter data for the current location\n",
        "        location_df = df[df['localizacao_geografica'] == location]\n",
        "\n",
        "        # Fill missing values with 0\n",
        "        location_df = location_df.fillna(0)\n",
        "\n",
        "        # Truncate location name to 31 characters if it's too long\n",
        "        location_name = location[:31]\n",
        "\n",
        "        # Create a worksheet with the truncated location name\n",
        "        worksheet = workbook.add_worksheet(location_name)\n",
        "\n",
        "        # Write the location name to cell A1\n",
        "        worksheet.write(0, 0, 'localizacao_geografica')\n",
        "\n",
        "        # Write the column names as the first row, starting from the second column\n",
        "        for col_num, column_name in enumerate(location_df.columns, start=1):\n",
        "            worksheet.write(0, col_num, column_name)\n",
        "\n",
        "        # Write the filtered data to the worksheet, starting from the second row\n",
        "        for row_num, row_data in enumerate(location_df.values, start=1):\n",
        "            # Write the location name to the first column\n",
        "            worksheet.write(row_num, 0, location)\n",
        "            # Write the rest of the row data, starting from the second column\n",
        "            for col_num, cell_data in enumerate(row_data, start=1):\n",
        "                worksheet.write(row_num, col_num, cell_data)\n"
      ],
      "metadata": {
        "id": "dFGgiP1Th-T1"
      },
      "execution_count": null,
      "outputs": []
    }
  ]
}